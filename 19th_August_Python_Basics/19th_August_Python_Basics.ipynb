{
  "nbformat": 4,
  "nbformat_minor": 0,
  "metadata": {
    "colab": {
      "provenance": []
    },
    "kernelspec": {
      "name": "python3",
      "display_name": "Python 3"
    },
    "language_info": {
      "name": "python"
    }
  },
  "cells": [
    {
      "cell_type": "markdown",
      "source": [
        "**TOPIC: Python Basics Variable**"
      ],
      "metadata": {
        "id": "kVgM9-VzQCio"
      }
    },
    {
      "cell_type": "markdown",
      "source": [
        "Q1. Declare two variables, `x` and `y`, and assign them integer values. Swap the\n",
        "values of these variables without using any temporary variable."
      ],
      "metadata": {
        "id": "O2qGo2QbQQBh"
      }
    },
    {
      "cell_type": "code",
      "source": [
        "# Declare two variables\n",
        "x = 10\n",
        "y = 20"
      ],
      "metadata": {
        "id": "P69h70dkQWKZ"
      },
      "execution_count": 2,
      "outputs": []
    },
    {
      "cell_type": "code",
      "source": [
        "# Defining a function to swap the values\n",
        "def swap_values(x,y):\n",
        "  print(\"Value of x and y before swap is {0} and {1} respectively\".format(x,y))\n",
        "  x,y = y,x\n",
        "  print(\"Value of x and y after swap is {0} and {1} respectively\".format(x,y))"
      ],
      "metadata": {
        "id": "LMiZj4TOQleU"
      },
      "execution_count": 3,
      "outputs": []
    },
    {
      "cell_type": "code",
      "source": [
        "# Calling the function\n",
        "swap_values(x,y)"
      ],
      "metadata": {
        "colab": {
          "base_uri": "https://localhost:8080/"
        },
        "id": "sFqfvXtXSq81",
        "outputId": "1ad0f954-ffab-4448-89ec-3eae845502b5"
      },
      "execution_count": 4,
      "outputs": [
        {
          "output_type": "stream",
          "name": "stdout",
          "text": [
            "Value of x and y before swap is 10 and 20 respectively\n",
            "Value of x and y after swap is 20 and 10 respectively\n"
          ]
        }
      ]
    },
    {
      "cell_type": "markdown",
      "source": [
        "Steps\n",
        "1.   Declare two variables x and y and assign them integer values.\n",
        "2.   Define a function to swap the values.\n",
        "\n",
        "     a) This function will have two parameters i.e., x and y.\n",
        "\n",
        "     b) Print the values of x and y before swap takes place. I have used format method for string formatting. The value we wish to put into the placeholders and concatenate with the string is passed as parameters into the format function.\n",
        "\n",
        "     c) x,y = y,x\n",
        "     \n",
        "     This will swap the values. Value of x will be equal to original value of y\n",
        "     and value of y will be equal to original value of x.\n",
        "\n",
        "     d) Print the values of x and y after swap takes place.\n",
        "\n",
        "3. Call the swap function to swap the values."
      ],
      "metadata": {
        "id": "eFIZuPctTAaM"
      }
    },
    {
      "cell_type": "markdown",
      "source": [
        "Q2. Create a program that calculates the area of a rectangle. Take the length and width as inputs from the user and store them in variables. Calculate and\n",
        "display the area."
      ],
      "metadata": {
        "id": "H2n7xh-MVn2B"
      }
    },
    {
      "cell_type": "code",
      "source": [
        "# User input for length and width of rectangle\n",
        "l = float(input(\"Enter length of rectangle: \"))\n",
        "b = float(input(\"Enter breadth of rectangle: \"))\n",
        "\n",
        "# Area calculation\n",
        "area = l*b\n",
        "\n",
        "# Print calculated area\n",
        "print(\"Area of rectangle is {0}\".format(area))"
      ],
      "metadata": {
        "colab": {
          "base_uri": "https://localhost:8080/"
        },
        "id": "bAydX-uXV7Pg",
        "outputId": "958829f5-ed85-4902-a238-2251aef6af34"
      },
      "execution_count": 14,
      "outputs": [
        {
          "output_type": "stream",
          "name": "stdout",
          "text": [
            "Enter length of rectangle: 5\n",
            "Enter breadth of rectangle: 10\n",
            "Area of rectangle is 50.0\n"
          ]
        }
      ]
    },
    {
      "cell_type": "markdown",
      "source": [
        "Steps\n",
        "\n",
        "1.   Use input() function to take user input for length and width of rectangle.\n",
        "     By default, return type of input() method is string. So, we need to perform type casting to convert it to float data type.\n",
        "2.   Calculate area of rectangle by multiplying length and breadth.\n",
        "3.   Print area of the rectangle.\n",
        "\n",
        "\n"
      ],
      "metadata": {
        "id": "POqVEjTNW1a1"
      }
    },
    {
      "cell_type": "markdown",
      "source": [
        "Q3. Write a Python program that converts temperatures from Celsius to\n",
        "Fahrenheit. Take the temperature in Celsius as input, store it in a variable,\n",
        "convert it to Fahrenheit, and display the result."
      ],
      "metadata": {
        "id": "ouXYP3BNY1AF"
      }
    },
    {
      "cell_type": "code",
      "source": [
        "# Take temperature in Celsius as input from user\n",
        "temp_in_cel = float(input(\"Enter temperature in Celsius: \"))\n",
        "\n",
        "# Convert temperature in Celsius to Fahrenheit\n",
        "temp_in_farh = (temp_in_cel * 9/5) + 32\n",
        "\n",
        "# Display the result\n",
        "print(\"Equivalent Fahrenheit temperature is {0}\".format(temp_in_farh))"
      ],
      "metadata": {
        "colab": {
          "base_uri": "https://localhost:8080/"
        },
        "id": "4RUQuWMiY5t8",
        "outputId": "a8b44f60-013e-4ed5-cfb2-c3c8fa313ece"
      },
      "execution_count": 16,
      "outputs": [
        {
          "output_type": "stream",
          "name": "stdout",
          "text": [
            "Enter temperature in Celsius: 37\n",
            "Equivalent Fahrenheit temperature is 98.6\n"
          ]
        }
      ]
    },
    {
      "cell_type": "markdown",
      "source": [
        "Steps\n",
        "1. Take temperature in Celsius as input from user. By default, return type of input() method is string. So, we need to perform type casting to convert it to float data type.\n",
        "\n",
        "2. Convert temperature in Celsius to Fahrenheit by using formula below.\n",
        "\n",
        "   t°F = (t°C × 9/5) + 32\n",
        "\n",
        "3. Print equivalent Fahrenheit temperature."
      ],
      "metadata": {
        "id": "0A4_v67lasaH"
      }
    },
    {
      "cell_type": "markdown",
      "source": [
        "**TOPIC: String Based Questions**"
      ],
      "metadata": {
        "id": "bpVyzRWujTzw"
      }
    },
    {
      "cell_type": "markdown",
      "source": [
        "Q1. Write a Python program that takes a string as input and prints the length of\n",
        "the string."
      ],
      "metadata": {
        "id": "nDUqsdbkjX_j"
      }
    },
    {
      "cell_type": "code",
      "source": [
        "# Take input from user\n",
        "input_string = input(\"Enter a string: \")\n",
        "\n",
        "# Calculate length of string and print it\n",
        "input_string_length = len(input_string)\n",
        "print(\"Length of input string is {0}\".format(input_string_length))"
      ],
      "metadata": {
        "colab": {
          "base_uri": "https://localhost:8080/"
        },
        "id": "fVigBQZ5jaOk",
        "outputId": "55ff5164-71bb-4732-effa-ae436e1ad1a4"
      },
      "execution_count": 17,
      "outputs": [
        {
          "output_type": "stream",
          "name": "stdout",
          "text": [
            "Enter a string: I love to learn Python\n",
            "Length of input string is 22\n"
          ]
        }
      ]
    },
    {
      "cell_type": "markdown",
      "source": [
        "Steps\n",
        "1. Take input string from user. By default, return type of input() method is string.\n",
        "2. Calculate length of string using len() method.\n",
        "3. Print length of input string."
      ],
      "metadata": {
        "id": "FSDH6QAEkcGf"
      }
    },
    {
      "cell_type": "markdown",
      "source": [
        "Q2. Create a program that takes a sentence from the user and counts the number\n",
        "of vowels (a, e, i, o, u) in the string."
      ],
      "metadata": {
        "id": "xkgCYJVQk2t6"
      }
    },
    {
      "cell_type": "code",
      "source": [
        "# Enter an input sentence\n",
        "sentence = input(\"Enter a sentence: \")\n",
        "\n",
        "# Declare a variable to store vowel count\n",
        "vowel_count = 0\n",
        "\n",
        "# Count number of vowels in the string\n",
        "for char in sentence:\n",
        "  char = char.lower()\n",
        "  if (char == 'a' or char == 'e' or char == 'i' or char == 'o' or char == 'u'):\n",
        "    vowel_count = vowel_count + 1\n",
        "\n",
        "# Print vowel count\n",
        "print(\"Number of vowels present in given sentence is {0}\".format(vowel_count))"
      ],
      "metadata": {
        "colab": {
          "base_uri": "https://localhost:8080/"
        },
        "id": "-B_KM8dsk7Ee",
        "outputId": "c926fc5c-fa0a-480f-b1c1-4ee0e7aed865"
      },
      "execution_count": 20,
      "outputs": [
        {
          "output_type": "stream",
          "name": "stdout",
          "text": [
            "Enter a sentence: My name is Srishti\n",
            "Number of vowels present in given sentence is 5\n"
          ]
        }
      ]
    },
    {
      "cell_type": "markdown",
      "source": [
        "Steps\n",
        "1. Take sentence as an input from user.\n",
        "2. Declare a variable to store number of vowels in a given sentence.\n",
        "3. Use for loop to iterate through each character in the sentence.\n",
        "4. To ensure cases having both uppercase and lowercase vowels are captured, convert the character to lowercase using the .lower() method.\n",
        "5. Use if condition to check if given character is a vowel (a,e,i,o and u).\n",
        "6. If given character is a vowel, increase the vowel count by 1.\n",
        "7. Print the vowel count."
      ],
      "metadata": {
        "id": "DNW1W7zumzmH"
      }
    },
    {
      "cell_type": "markdown",
      "source": [
        "Q3. Given a string, reverse the order of characters using string slicing and print the reversed string."
      ],
      "metadata": {
        "id": "sRxreVQJoqyK"
      }
    },
    {
      "cell_type": "code",
      "source": [
        "# Take input from user\n",
        "input_string = input(\"Enter a string: \")\n",
        "\n",
        "# Use slicing method to reverse the string\n",
        "# Here, we start from end of the string, move backward with step -1, and stop at the beginning.\n",
        "reverse_string = input_string[::-1]\n",
        "\n",
        "# Print the reversed string\n",
        "print(\"Reversed string is: {0}\".format(reverse_string))"
      ],
      "metadata": {
        "colab": {
          "base_uri": "https://localhost:8080/"
        },
        "id": "w_UKZhp3otbU",
        "outputId": "3d4a1af2-7541-49e3-ada4-b2b10d6be0dd"
      },
      "execution_count": 23,
      "outputs": [
        {
          "output_type": "stream",
          "name": "stdout",
          "text": [
            "Enter a string: I love to code\n",
            "Reversed string is: edoc ot evol I\n"
          ]
        }
      ]
    },
    {
      "cell_type": "markdown",
      "source": [
        "Steps\n",
        "1.   Take input string from user.\n",
        "2.   Use slicing method to reverse the string. Here, we start from end of the string, move backward with step -1, and stop at the beginning.\n",
        "Syntax: [start:end:step]\n",
        "3. Print the reversed string\n",
        "\n"
      ],
      "metadata": {
        "id": "BC2gZvGmp6fy"
      }
    },
    {
      "cell_type": "markdown",
      "source": [
        "Q4. Write a program that takes a string as input and checks if it is a palindrome (reads the same forwards and backwards)."
      ],
      "metadata": {
        "id": "H7Ocqrzt5VhG"
      }
    },
    {
      "cell_type": "code",
      "source": [
        "# Take input from user\n",
        "input_string = input(\"Enter a string: \")\n",
        "\n",
        "# Remove spaces and convert the input string to lowercase\n",
        "modified_string = input_string.replace(\" \", \"\").lower()\n",
        "\n",
        "# Use slicing method to reverse the string\n",
        "reversed_string = modified_string[::-1]\n",
        "\n",
        "# Compare reversed string and modified string to check if it's a palindrome\n",
        "if(reversed_string == modified_string):\n",
        "  print(\"Given string is a palindrome\")\n",
        "else:\n",
        "  print(\"Given string is not a palindrome\")"
      ],
      "metadata": {
        "colab": {
          "base_uri": "https://localhost:8080/"
        },
        "id": "_MI7og8P5Zg6",
        "outputId": "71d669ed-8a74-46ce-d66d-82dafe1e43c4"
      },
      "execution_count": 27,
      "outputs": [
        {
          "output_type": "stream",
          "name": "stdout",
          "text": [
            "Enter a string: Eye\n",
            "Given string is a palindrome\n"
          ]
        }
      ]
    },
    {
      "cell_type": "markdown",
      "source": [
        "Steps\n",
        "\n",
        "\n",
        "1.   Take input string from user.\n",
        "2.   Remove spaces from the input string using replace() method and convert it to lowercase using lower() method. This helps to ensure that comparison is case-insensitive and doesn't consider spaces.\n",
        "3. Use slicing method to reverse the string.Here, we start from end of the string, move backward with step -1, and stop at the beginning.\n",
        "\n",
        "  Syntax: [start:end:step]\n",
        "4. Use an if statement to compare reversed string and modified string. If they are equal then it's a palindarome otherwise it's not a palindrome.\n",
        "    \n",
        "\n"
      ],
      "metadata": {
        "id": "QQ-gQY2K7DaL"
      }
    },
    {
      "cell_type": "markdown",
      "source": [
        "Q5. Create a program that takes a string as input and removes all the spaces from it. Print the modified string without spaces."
      ],
      "metadata": {
        "id": "mjVFS92z8QK0"
      }
    },
    {
      "cell_type": "code",
      "source": [
        "# Take input from user\n",
        "input_string = input(\"Enter a string: \")\n",
        "\n",
        "# Remove spaces from given string using replace method\n",
        "input_string_no_spaces = input_string.replace(\" \", \"\")\n",
        "\n",
        "# Print the given string without spaces\n",
        "print(\"Given string without spaces: {0}\".format(input_string_no_spaces))"
      ],
      "metadata": {
        "colab": {
          "base_uri": "https://localhost:8080/"
        },
        "id": "NMz3yKXp8UYx",
        "outputId": "a75fdc2f-57c0-448a-8382-4a2e6eb714e3"
      },
      "execution_count": 31,
      "outputs": [
        {
          "output_type": "stream",
          "name": "stdout",
          "text": [
            "Enter a string: Hello World\n",
            "Given string without spaces: HelloWorld\n"
          ]
        }
      ]
    },
    {
      "cell_type": "markdown",
      "source": [
        "Steps\n",
        "\n",
        "1. Take input string from user.\n",
        "2. Remove spaces from the input string using replace() method.\n",
        "3. Print the modified string containing no spaces."
      ],
      "metadata": {
        "id": "NrqwVE8Y9BXA"
      }
    }
  ]
}